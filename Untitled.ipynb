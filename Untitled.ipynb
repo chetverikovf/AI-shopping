{
 "cells": [
  {
   "cell_type": "code",
   "execution_count": 1,
   "id": "a769232a-f2cf-4fd7-8140-4924f60fc727",
   "metadata": {},
   "outputs": [],
   "source": [
    "import csv\n",
    "from sklearn.model_selection import train_test_split\n",
    "from sklearn.neighbors import KNeighborsClassifier\n",
    "import numpy as np"
   ]
  },
  {
   "cell_type": "code",
   "execution_count": 2,
   "id": "d61db093-acc1-465a-89a9-19983fe540a9",
   "metadata": {},
   "outputs": [
    {
     "name": "stdout",
     "output_type": "stream",
     "text": [
      "Loaded 12330 data points.\n"
     ]
    }
   ],
   "source": [
    "## 2. Load Data\n",
    "def load_data(filename):\n",
    "    \"\"\"\n",
    "    Load shopping data from a CSV file and convert it into evidence and labels.\n",
    "    \"\"\"\n",
    "    evidence = []\n",
    "    labels = []\n",
    "\n",
    "    month_mapping = {\n",
    "        \"Jan\": 0, \"Feb\": 1, \"Mar\": 2, \"Apr\": 3, \"May\": 4, \"June\": 5,\n",
    "        \"Jul\": 6, \"Aug\": 7, \"Sep\": 8, \"Oct\": 9, \"Nov\": 10, \"Dec\": 11\n",
    "    }\n",
    "\n",
    "    with open(filename, 'r') as file:\n",
    "        reader = csv.DictReader(file)\n",
    "        for row in reader:\n",
    "            evidence.append([\n",
    "                int(row[\"Administrative\"]),\n",
    "                float(row[\"Administrative_Duration\"]),\n",
    "                int(row[\"Informational\"]),\n",
    "                float(row[\"Informational_Duration\"]),\n",
    "                int(row[\"ProductRelated\"]),\n",
    "                float(row[\"ProductRelated_Duration\"]),\n",
    "                float(row[\"BounceRates\"]),\n",
    "                float(row[\"ExitRates\"]),\n",
    "                float(row[\"PageValues\"]),\n",
    "                float(row[\"SpecialDay\"]),\n",
    "                month_mapping[row[\"Month\"]],\n",
    "                int(row[\"OperatingSystems\"]),\n",
    "                int(row[\"Browser\"]),\n",
    "                int(row[\"Region\"]),\n",
    "                int(row[\"TrafficType\"]),\n",
    "                1 if row[\"VisitorType\"] == \"Returning_Visitor\" else 0,\n",
    "                1 if row[\"Weekend\"] == \"TRUE\" else 0\n",
    "            ])\n",
    "            labels.append(1 if row[\"Revenue\"] == \"TRUE\" else 0)\n",
    "\n",
    "    return evidence, labels\n",
    "\n",
    "# Load data\n",
    "evidence, labels = load_data(\"shopping.csv\")\n",
    "print(f\"Loaded {len(evidence)} data points.\")"
   ]
  },
  {
   "cell_type": "code",
   "execution_count": 3,
   "id": "b4f2b400-b8e0-4bb0-91d7-492ba46f3f3e",
   "metadata": {},
   "outputs": [
    {
     "name": "stdout",
     "output_type": "stream",
     "text": [
      "Training data points: 7398\n",
      "Testing data points: 4932\n"
     ]
    }
   ],
   "source": [
    "## 3. Split Data\n",
    "# Split data into training and testing sets\n",
    "TEST_SIZE = 0.4\n",
    "\n",
    "X_train, X_test, y_train, y_test = train_test_split(\n",
    "    evidence, labels, test_size=TEST_SIZE\n",
    ")\n",
    "\n",
    "print(f\"Training data points: {len(X_train)}\")\n",
    "print(f\"Testing data points: {len(X_test)}\")"
   ]
  },
  {
   "cell_type": "code",
   "execution_count": 4,
   "id": "2ed93f0e-0adb-4202-8557-509f0558c77c",
   "metadata": {},
   "outputs": [],
   "source": [
    "## 4. Train the Model\n",
    "def train_model(evidence, labels):\n",
    "    \"\"\"\n",
    "    Train a k-nearest neighbors model (k=1) on the given evidence and labels.\n",
    "    \"\"\"\n",
    "    model = KNeighborsClassifier(n_neighbors=1)\n",
    "    model.fit(evidence, labels)\n",
    "    return model\n",
    "\n",
    "# Train model\n",
    "model = train_model(X_train, y_train)"
   ]
  },
  {
   "cell_type": "code",
   "execution_count": 5,
   "id": "e2c90c9a-acb1-4920-a62d-f8f9199c6562",
   "metadata": {},
   "outputs": [
    {
     "name": "stdout",
     "output_type": "stream",
     "text": [
      "Sensitivity (True Positive Rate): 0.37\n",
      "Specificity (True Negative Rate): 0.91\n"
     ]
    }
   ],
   "source": [
    "## 5. Evaluate the Model\n",
    "\n",
    "def evaluate(labels, predictions):\n",
    "    \"\"\"\n",
    "    Evaluate sensitivity (true positive rate) and specificity (true negative rate).\n",
    "    \"\"\"\n",
    "    true_positive = sum(1 for actual, predicted in zip(labels, predictions) if actual == 1 and predicted == 1)\n",
    "    true_negative = sum(1 for actual, predicted in zip(labels, predictions) if actual == 0 and predicted == 0)\n",
    "    \n",
    "    total_positive = sum(1 for label in labels if label == 1)\n",
    "    total_negative = sum(1 for label in labels if label == 0)\n",
    "\n",
    "    sensitivity = true_positive / total_positive if total_positive else 0\n",
    "    specificity = true_negative / total_negative if total_negative else 0\n",
    "\n",
    "    return sensitivity, specificity\n",
    "\n",
    "# Make predictions\n",
    "predictions = model.predict(X_test)\n",
    "sensitivity, specificity = evaluate(y_test, predictions)\n",
    "\n",
    "print(f\"Sensitivity (True Positive Rate): {sensitivity:.2f}\")\n",
    "print(f\"Specificity (True Negative Rate): {specificity:.2f}\")"
   ]
  },
  {
   "cell_type": "code",
   "execution_count": 6,
   "id": "b172d99d-e629-494f-bd8a-4cc7b71d3e7f",
   "metadata": {},
   "outputs": [
    {
     "name": "stdout",
     "output_type": "stream",
     "text": [
      "Correct: 4100\n",
      "Incorrect: 832\n",
      "Accuracy: 0.83\n"
     ]
    }
   ],
   "source": [
    "## 6. Report Results\n",
    "\n",
    "correct = (np.array(y_test) == predictions).sum()\n",
    "incorrect = (np.array(y_test) != predictions).sum()\n",
    "\n",
    "print(f\"Correct: {correct}\")\n",
    "print(f\"Incorrect: {incorrect}\")\n",
    "print(f\"Accuracy: {correct / len(y_test):.2f}\")"
   ]
  }
 ],
 "metadata": {
  "kernelspec": {
   "display_name": "Python 3 (ipykernel)",
   "language": "python",
   "name": "python3"
  },
  "language_info": {
   "codemirror_mode": {
    "name": "ipython",
    "version": 3
   },
   "file_extension": ".py",
   "mimetype": "text/x-python",
   "name": "python",
   "nbconvert_exporter": "python",
   "pygments_lexer": "ipython3",
   "version": "3.12.6"
  }
 },
 "nbformat": 4,
 "nbformat_minor": 5
}
